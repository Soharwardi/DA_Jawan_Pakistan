{
 "cells": [
  {
   "cell_type": "code",
   "execution_count": 5,
   "id": "71cb26a2",
   "metadata": {},
   "outputs": [
    {
     "name": "stdout",
     "output_type": "stream",
     "text": [
      "\n",
      "    Twinkle, twinkle, little star,\n",
      "\n",
      "            How I wonder what you are!\n",
      "\n",
      "                Up above the world so high,\n",
      "\n",
      "                Like a diamond in the sky.\n",
      "\n",
      "\n",
      "    Twinkle, twinkle, little star,\n",
      "\n",
      "            How I wonder what you are\n",
      "\n",
      "\n"
     ]
    }
   ],
   "source": [
    "# problem 1 \n",
    "# Write a Python program to print the following string in a specific format (see the\n",
    "# output).\n",
    "\n",
    "# Twinkle, twinkle, little star,\n",
    "# How I wonder what you are!\n",
    "# Up above the world so high,\n",
    "# Like a diamond in the sky.\n",
    "\n",
    "# Twinkle, twinkle, little star,\n",
    "# How I wonder what you are\n",
    "\n",
    "poem = '''\n",
    "    Twinkle, twinkle, little star,\\n\n",
    "            How I wonder what you are!\\n\n",
    "                Up above the world so high,\\n\n",
    "                Like a diamond in the sky.\\n\n",
    "\n",
    "    Twinkle, twinkle, little star,\\n\n",
    "            How I wonder what you are\\n\n",
    "'''\n",
    "print(poem)"
   ]
  },
  {
   "cell_type": "raw",
   "id": "85d6ebd0",
   "metadata": {},
   "source": [
    "# problem 2\n",
    "# Write a Python program to get the Python version you are using\n",
    "#python --version"
   ]
  },
  {
   "cell_type": "code",
   "execution_count": 10,
   "id": "7a594b35",
   "metadata": {},
   "outputs": [
    {
     "name": "stdout",
     "output_type": "stream",
     "text": [
      "2024-08-02 12:11:30.483065\n"
     ]
    }
   ],
   "source": [
    "# Problem 3\n",
    "# Write a Python program to display the current date and time.\n",
    "\n",
    "from datetime import datetime\n",
    "\n",
    "now = datetime.now()\n",
    "print(now)\n"
   ]
  },
  {
   "cell_type": "code",
   "execution_count": 1,
   "id": "f7ad5b5b",
   "metadata": {},
   "outputs": [
    {
     "name": "stdout",
     "output_type": "stream",
     "text": [
      "Enter the radius of the circle: 21\n",
      "The area of the circle with radius 21.0 is: 1385.44\n"
     ]
    }
   ],
   "source": [
    "# Problem 4\n",
    "# Write a Python program which accepts the radius of a circle from the user and compute\n",
    "# the area. \n",
    "\n",
    "import math\n",
    "\n",
    "radius = float(input(\"Enter the radius of the circle: \"))\n",
    "\n",
    "area = math.pi * radius ** 2\n",
    "\n",
    "print(f\"The area of the circle with radius {radius} is: {area:.2f}\")\n"
   ]
  },
  {
   "cell_type": "code",
   "execution_count": 6,
   "id": "2b5aaacd",
   "metadata": {},
   "outputs": [
    {
     "name": "stdout",
     "output_type": "stream",
     "text": [
      "Enter your first name: f\n",
      "Enter your last name: g\n",
      "g f\n"
     ]
    }
   ],
   "source": [
    "# problem 5\n",
    "# Write a Python program which accepts the user's first and last name and print them in\n",
    "# reverse order with a space between them.\n",
    "\n",
    "first_name = input(\"Enter your first name: \")\n",
    "last_name = input(\"Enter your last name: \")\n",
    "\n",
    "\n",
    "print(last_name, first_name)\n",
    "\n"
   ]
  },
  {
   "cell_type": "code",
   "execution_count": 3,
   "id": "3145a512",
   "metadata": {},
   "outputs": [
    {
     "name": "stdout",
     "output_type": "stream",
     "text": [
      "Enter 1st number : 2\n",
      "Enter 1st number : 2\n",
      " Addition of A and b : 4\n"
     ]
    }
   ],
   "source": [
    "# problem 6\n",
    "# Write a python program which takes two inputs from user and print them addition\n",
    "\n",
    "a = int(input('Enter 1st number : '))\n",
    "b = int(input('Enter 1st number : '))\n",
    "print('Addition of A and b :', a + b)"
   ]
  },
  {
   "cell_type": "code",
   "execution_count": 8,
   "id": "e542d392",
   "metadata": {},
   "outputs": [
    {
     "name": "stdout",
     "output_type": "stream",
     "text": [
      "Enter 1st Subject number : 87\n",
      "Enter 2nd Subject number : 78\n",
      "Enter 3rd Subject number : 89\n",
      "Enter 4th Subject number : 98\n",
      "Enter 5th Subject number : 79\n",
      "86.2 %\n"
     ]
    }
   ],
   "source": [
    "# problem 7\n",
    "# Write a program which takes 5 inputs from user for different subject’s marks, total it\n",
    "# and generate mark sheet using grades ?\n",
    "\n",
    "a = int(input('Enter 1st Subject number : '))\n",
    "b = int(input('Enter 2nd Subject number : '))\n",
    "c = int(input('Enter 3rd Subject number : '))\n",
    "d = int(input('Enter 4th Subject number : '))\n",
    "e = int(input('Enter 5th Subject number : '))\n",
    "\n",
    "f = a+b+c+d+e\n",
    "g= f/500 *100\n",
    "print(g,\"%\")"
   ]
  },
  {
   "cell_type": "code",
   "execution_count": 14,
   "id": "f73d718b",
   "metadata": {},
   "outputs": [
    {
     "name": "stdout",
     "output_type": "stream",
     "text": [
      "Enter a number :89\n",
      "Odd\n"
     ]
    }
   ],
   "source": [
    "# problem 8\n",
    "# Write a program which take input from user and identify that the given number is even\n",
    "# or odd?\n",
    "\n",
    "a = int(input('Enter a number :'))\n",
    "if a % 2 == 0:\n",
    "    print('Even')\n",
    "else:\n",
    "    print('Odd')"
   ]
  },
  {
   "cell_type": "code",
   "execution_count": 15,
   "id": "ade370bf",
   "metadata": {},
   "outputs": [
    {
     "name": "stdout",
     "output_type": "stream",
     "text": [
      "8\n"
     ]
    }
   ],
   "source": [
    "# problem 9\n",
    "# Write a program which print the length of the list?\n",
    "a = [1,2,3,4,5,6,7,8]\n",
    "print(len(a))"
   ]
  },
  {
   "cell_type": "code",
   "execution_count": 16,
   "id": "7265b51f",
   "metadata": {},
   "outputs": [
    {
     "name": "stdout",
     "output_type": "stream",
     "text": [
      "36\n"
     ]
    }
   ],
   "source": [
    "# problem 10\n",
    "# Write a Python program to sum all the numeric items in a list?\n",
    "a = [1,2,3,4,5,6,7,8]\n",
    "print(sum(a))\n"
   ]
  },
  {
   "cell_type": "code",
   "execution_count": 18,
   "id": "0f5f5698",
   "metadata": {},
   "outputs": [
    {
     "name": "stdout",
     "output_type": "stream",
     "text": [
      "21\n"
     ]
    }
   ],
   "source": [
    "# problem 11\n",
    "# Write a Python program to get the largest number from a numeric list.\n",
    "a = [1,2,3,4,21,5,6,7,8]\n",
    "print(max(a))"
   ]
  },
  {
   "cell_type": "code",
   "execution_count": 22,
   "id": "bf8114c4",
   "metadata": {},
   "outputs": [
    {
     "name": "stdout",
     "output_type": "stream",
     "text": [
      "[1, 2, 3, 4, 5]\n"
     ]
    }
   ],
   "source": [
    "# problem 11\n",
    "# Write a program that prints out all the elements of the list that are less than 5.\n",
    "a = [1,2,3,4,5,6,7,8,21,32,34]\n",
    "print(a[:5])"
   ]
  },
  {
   "cell_type": "code",
   "execution_count": null,
   "id": "b1418459",
   "metadata": {},
   "outputs": [],
   "source": []
  }
 ],
 "metadata": {
  "kernelspec": {
   "display_name": "Python 3 (ipykernel)",
   "language": "python",
   "name": "python3"
  },
  "language_info": {
   "codemirror_mode": {
    "name": "ipython",
    "version": 3
   },
   "file_extension": ".py",
   "mimetype": "text/x-python",
   "name": "python",
   "nbconvert_exporter": "python",
   "pygments_lexer": "ipython3",
   "version": "3.11.5"
  }
 },
 "nbformat": 4,
 "nbformat_minor": 5
}
