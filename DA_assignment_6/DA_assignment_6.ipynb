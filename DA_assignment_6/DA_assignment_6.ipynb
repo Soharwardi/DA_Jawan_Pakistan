{
 "cells": [
  {
   "cell_type": "code",
   "execution_count": 11,
   "id": "1b471d78",
   "metadata": {},
   "outputs": [
    {
     "name": "stdout",
     "output_type": "stream",
     "text": [
      "* \n",
      "* * \n",
      "* * * \n",
      "* * * * \n",
      "* * * * * \n",
      "* * * * \n",
      "* * * \n",
      "* * \n",
      "* \n"
     ]
    }
   ],
   "source": [
    "# 1. Write a Python program to construct the following pattern, using a nested for loop.\n",
    "\n",
    "# *\n",
    "# * *\n",
    "# * * *\n",
    "# * * * *\n",
    "# * * * * *\n",
    "# * * * *\n",
    "# * * *\n",
    "# * *\n",
    "# *\n",
    "\n",
    "n = 5\n",
    "for i in range(1 , n + 1):\n",
    "    for a in range(i):\n",
    "        print('*', end = ' ')\n",
    "    print()\n",
    "    \n",
    "for i in range(n - 1 , 0, -1):\n",
    "    for a in range(i):\n",
    "        print('*', end = ' ')\n",
    "    print()"
   ]
  },
  {
   "cell_type": "code",
   "execution_count": 18,
   "id": "c2e77581",
   "metadata": {},
   "outputs": [
    {
     "name": "stdout",
     "output_type": "stream",
     "text": [
      "b\n",
      "Consonant\n"
     ]
    }
   ],
   "source": [
    "# 2. Write a Python program to check whether an alphabet which is given by user\n",
    "# in input prompt is a vowel or consonant.\n",
    "\n",
    "a = input()\n",
    "\n",
    "if a in 'aeiou':\n",
    "    print('Vowel')\n",
    "else:\n",
    "    print('Consonant')"
   ]
  },
  {
   "cell_type": "code",
   "execution_count": 21,
   "id": "a9ed8a56",
   "metadata": {},
   "outputs": [
    {
     "name": "stdout",
     "output_type": "stream",
     "text": [
      "6 * 1 = 6\n",
      "6 * 2 = 12\n",
      "6 * 3 = 18\n",
      "6 * 4 = 24\n",
      "6 * 5 = 30\n",
      "6 * 6 = 36\n",
      "6 * 7 = 42\n",
      "6 * 8 = 48\n",
      "6 * 9 = 54\n",
      "6 * 10 = 60\n"
     ]
    }
   ],
   "source": [
    "# 3. Write a Python program to create the multiplication table (from 1 to 10)\n",
    "# of a number and the number will be given by user in input prompt.\n",
    "# Expected Output:\n",
    "\n",
    "# Input a number: 6   \n",
    "\n",
    "for i in range(1,11):\n",
    "    print(f'6 * {i} = {i*6}')"
   ]
  },
  {
   "cell_type": "code",
   "execution_count": 24,
   "id": "b6cffa80",
   "metadata": {},
   "outputs": [
    {
     "name": "stdout",
     "output_type": "stream",
     "text": [
      "Enter Number from 1 to 9 : 3\n",
      "Try again\n",
      "Enter Number from 1 to 9 : 2\n",
      "Right\n"
     ]
    }
   ],
   "source": [
    "# 4. Write a Python program to guess a number between 1 and 9.\n",
    "# Note : User is prompted to enter a guess. If the user guesses wrong then\n",
    "# the prompt appears again until the guess is correct, on successful guess,\n",
    "# user will get a \"Well guessed!\" message, and the program will exit.\n",
    "\n",
    "import random\n",
    "\n",
    "guess = random.randint(1,9)\n",
    "\n",
    "while True:\n",
    "    user = int(input('Enter Number from 1 to 9 : '))\n",
    "    if user == guess:\n",
    "        print('Right')\n",
    "        break\n",
    "    else:\n",
    "        print('Try again')"
   ]
  },
  {
   "cell_type": "code",
   "execution_count": 9,
   "id": "46a408c9",
   "metadata": {},
   "outputs": [
    {
     "name": "stdout",
     "output_type": "stream",
     "text": [
      "{'Cierra Vega': (6.2, 70)}\n"
     ]
    }
   ],
   "source": [
    "# 5. Write a  Python program to filter the height and width of students, which are stored in a dictionary.\n",
    "# Original Dictionary:\n",
    "# {'Cierra Vega': (6.2, 70), 'Alden Cantrell': (5.9, 65), 'Kierra Gentry': (6.0, 68), 'Pierre Cox': (5.8, 66)}\n",
    "# Height > 6ft and Weight> 70kg:\n",
    "# {'Cierra Vega': (6.2, 70)}\n",
    "\n",
    "a = {\n",
    "    'Cierra Vega': (6.2, 70),\n",
    "    'Alden Cantrell': (5.9, 65),\n",
    "    'Kierra Gentry': (6.0, 68),\n",
    "    'Pierre Cox': (5.8, 66)\n",
    "}\n",
    "b = {}\n",
    "\n",
    "for i,(c,d) in a.items():\n",
    "    if c >= 6 and d >= 70:\n",
    "        b[i] = (c,d) \n",
    "print(b)"
   ]
  },
  {
   "cell_type": "code",
   "execution_count": 12,
   "id": "9cb7ed33",
   "metadata": {},
   "outputs": [
    {
     "name": "stdout",
     "output_type": "stream",
     "text": [
      "{'C1': [], 'C2': [], 'C3': []}\n"
     ]
    }
   ],
   "source": [
    "# 6. A Python dictionary contains List as a value. Write a Python program to clear the list\n",
    "# values in the said dictionary.\n",
    "# Original Dictionary:\n",
    "# {'C1': [10, 20, 30], 'C2': [20, 30, 40], 'C3': [12, 34]}\n",
    "# Clear the list values in the said dictionary:\n",
    "# {'C1': [], 'C2': [], 'C3': []}\n",
    "\n",
    "a =  {'C1': [10, 20, 30], 'C2': [20, 30, 40], 'C3': [12, 34]}\n",
    "\n",
    "for i in a:\n",
    "    a[i].clear()\n",
    "print(a)"
   ]
  },
  {
   "cell_type": "code",
   "execution_count": 5,
   "id": "41d52c48",
   "metadata": {},
   "outputs": [
    {
     "name": "stdout",
     "output_type": "stream",
     "text": [
      "The River Ravi runs through Pakistan\n",
      "The River Nile runs through Egypt\n",
      "The River Abc runs through Edf\n",
      "Ravi Pakistan\n",
      "Nile Egypt\n",
      "Abc Edf\n"
     ]
    }
   ],
   "source": [
    "# 7.  Rivers: Make a dictionary containing three major rivers and the country\n",
    "# each river runs through. One key-value pair might be 'nile': 'egypt'.\n",
    "# • Use a loop to print a sentence about each river, such as The Nile runs\n",
    "# through Egypt.\n",
    "# • Use a loop to print the name of each river included in the dictionary.\n",
    "# • Use a loop to print the name of each country included in the dictionary.\n",
    "\n",
    "a = {\n",
    "    'Ravi' : 'Pakistan',\n",
    "    'Nile' : 'Egypt',\n",
    "    'Abc' : 'Edf'\n",
    "}\n",
    "\n",
    "for i in a:\n",
    "    print('The River '+ i + ' runs through ' + a[i])\n",
    "    \n",
    "for i in a:\n",
    "    print(i, a[i])"
   ]
  },
  {
   "cell_type": "code",
   "execution_count": 19,
   "id": "a92a8f90",
   "metadata": {},
   "outputs": [
    {
     "name": "stdout",
     "output_type": "stream",
     "text": [
      "Enter age :13\n",
      "Ticket price $ 15\n"
     ]
    }
   ],
   "source": [
    "# 8. Movie Tickets: A movie theater charges different ticket prices depending on\n",
    "# a person’s age. If a person is under the age of 3, the ticket is free; if they are\n",
    "# between 3 and 12, the ticket is $10; and if they are over age 12, the ticket is\n",
    "# $15. Write a loop in which you ask users their age, and then tell them the cost\n",
    "# of their movie ticket.\n",
    "\n",
    "while True:\n",
    "    a = int(input('Enter age :'))\n",
    "    if a <3:\n",
    "        print('Free ticket')\n",
    "        break\n",
    "        \n",
    "    elif a >= 3 and a <= 12:\n",
    "        print(' Ticket price  $10')\n",
    "        break\n",
    "        \n",
    "    else:\n",
    "        print('Ticket price $ 15')\n",
    "        break"
   ]
  },
  {
   "cell_type": "code",
   "execution_count": 13,
   "id": "2d377a76",
   "metadata": {},
   "outputs": [
    {
     "name": "stdout",
     "output_type": "stream",
     "text": [
      "Please enter your age (or type 0 to exit): 2\n",
      "The ticket is free for you!\n",
      "Please enter your age (or type 0 to exit): 5\n",
      "The ticket costs $10.\n",
      "Please enter your age (or type 0 to exit): 0\n",
      "Exiting the program.\n"
     ]
    }
   ],
   "source": []
  },
  {
   "cell_type": "code",
   "execution_count": null,
   "id": "0d9f4273",
   "metadata": {},
   "outputs": [],
   "source": []
  }
 ],
 "metadata": {
  "kernelspec": {
   "display_name": "Python 3 (ipykernel)",
   "language": "python",
   "name": "python3"
  },
  "language_info": {
   "codemirror_mode": {
    "name": "ipython",
    "version": 3
   },
   "file_extension": ".py",
   "mimetype": "text/x-python",
   "name": "python",
   "nbconvert_exporter": "python",
   "pygments_lexer": "ipython3",
   "version": "3.11.5"
  }
 },
 "nbformat": 4,
 "nbformat_minor": 5
}
