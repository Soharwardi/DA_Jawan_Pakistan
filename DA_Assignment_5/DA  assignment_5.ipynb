{
 "cells": [
  {
   "cell_type": "code",
   "execution_count": 2,
   "id": "2c29fd05",
   "metadata": {},
   "outputs": [
    {
     "name": "stdout",
     "output_type": "stream",
     "text": [
      "({'Name': 'Ali', 'Id': '123', 'Dept': 'H R'}, {'Name': 'Sami', 'Id': '321', 'Dept': 'Marketing'}, {'Name': 'Iffi', 'Id': '434', 'Dept': 'Finance'})\n"
     ]
    }
   ],
   "source": [
    "# 1. You need to store and manage employee records where each record includes an\n",
    "# employee's ID, name, and department. (Use tuples to represent each employee record).\n",
    "\n",
    "employee = (\n",
    "    {\n",
    "    'Name': 'Ali',\n",
    "    'Id':'123',\n",
    "    'Dept': 'H R'},\n",
    "    {\n",
    "        'Name': 'Sami',\n",
    "        'Id': '321',\n",
    "        'Dept': 'Marketing'\n",
    "    },\n",
    "    {\n",
    "        'Name': 'Iffi',\n",
    "        'Id' : '434',\n",
    "        'Dept':  'Finance'\n",
    "    }\n",
    ")\n",
    "print(employee)"
   ]
  },
  {
   "cell_type": "code",
   "execution_count": 5,
   "id": "22e690ad",
   "metadata": {},
   "outputs": [
    {
     "name": "stdout",
     "output_type": "stream",
     "text": [
      "(('Tyre', 'Bike front tyre', 12), ('Handle', '70 motorcylce', 4))\n"
     ]
    }
   ],
   "source": [
    "# 2. You are managing an inventory system where each item has an item ID, description,\n",
    "# and quantity available. (Use tuples to represent each inventory item).\n",
    "\n",
    "record = (\n",
    "    ('Tyre','Bike front tyre',12),\n",
    "    ('Handle','70 motorcylce',4)\n",
    ")\n",
    "print(record)"
   ]
  },
  {
   "cell_type": "code",
   "execution_count": 17,
   "id": "81347144",
   "metadata": {},
   "outputs": [
    {
     "name": "stdout",
     "output_type": "stream",
     "text": [
      "('HR Meeting', '12-05-2024', 'Hiring new staff')\n",
      "('Marketing', '30-05-2024', 'Lunch and Meeting for new project')\n",
      "('Finance', '29-05-2024', 'managing new project account and cost cutting')\n"
     ]
    }
   ],
   "source": [
    "# 3. You need to store the dates and times of scheduled events, like meetings or\n",
    "# appointments. (Use tuples to store date and time information).\n",
    "\n",
    "meeting = (\n",
    "    ('HR Meeting', '12-05-2024','Hiring new staff'),\n",
    "    ('Marketing', '30-05-2024', 'Lunch and Meeting for new project'),\n",
    "    ('Finance', '29-05-2024', 'managing new project account and cost cutting')\n",
    "\n",
    ")\n",
    "print(*meeting , sep = '\\n')"
   ]
  },
  {
   "cell_type": "code",
   "execution_count": 9,
   "id": "97eb2986",
   "metadata": {},
   "outputs": [
    {
     "name": "stdout",
     "output_type": "stream",
     "text": [
      "{'HR': {'Name': 'Ali', 'Id': '123', 'Dept': 'H R'}}\n"
     ]
    }
   ],
   "source": [
    "# 4. Store a company's employee details, organized by department. (Use dictionary in\n",
    "# dictionary).\n",
    "\n",
    "emp = {\n",
    "     'HR': {'Name': 'Ali',\n",
    "    'Id':'123',\n",
    "    'Dept': 'H R'}\n",
    " \n",
    "}\n",
    "print(emp)"
   ]
  },
  {
   "cell_type": "code",
   "execution_count": 12,
   "id": "b07cbc02",
   "metadata": {},
   "outputs": [
    {
     "name": "stdout",
     "output_type": "stream",
     "text": [
      "[{'Ali', 'English', 78}, {'Nasir', 81, 'English'}, {'Sami', 'English', 78}]\n"
     ]
    }
   ],
   "source": [
    "# 5. Keep track of student scores in various subjects and retrieve a student's scores. (Use\n",
    "# dictionary in List).\n",
    "\n",
    "\n",
    "student = [\n",
    "    {'Ali','English',78},\n",
    "    {'Nasir','English', 81},\n",
    "    {'Sami','English', 78}\n",
    "\n",
    "]\n",
    "print(student)"
   ]
  },
  {
   "cell_type": "code",
   "execution_count": 18,
   "id": "a03c38e6",
   "metadata": {},
   "outputs": [
    {
     "name": "stdout",
     "output_type": "stream",
     "text": [
      "{'Project A': ['Task 1', 'create database', '30%'], 'Project B': ['Task 2', 'Front end development', '50%']}\n"
     ]
    }
   ],
   "source": [
    "# 6. Track various projects and their associated tasks, and retrieve tasks for a specific\n",
    "# project. (Use List in Dictionary).\n",
    "\n",
    "task = {\n",
    "    'Project A': ['Task 1', 'create database','30%'],\n",
    "    'Project B': ['Task 2','Front end development','50%']\n",
    "}\n",
    "print(task)"
   ]
  },
  {
   "cell_type": "code",
   "execution_count": 20,
   "id": "d84c28ac",
   "metadata": {},
   "outputs": [
    {
     "name": "stdout",
     "output_type": "stream",
     "text": [
      "{'Python': {'Python': 'Course 20 % complited'}, 'TypeScript': {'TypeScript': 'Course 50 % complited'}}\n"
     ]
    }
   ],
   "source": [
    "# 7. Manage courses and their contents in a training program and retrieve details of a\n",
    "# specific module. (dictionary in dictionary)\n",
    "\n",
    "course = {\n",
    "    \n",
    "    'Python' :{\n",
    "        'Python': 'Course 20 % complited',\n",
    "    },\n",
    "    'TypeScript' :{\n",
    "        'TypeScript': 'Course 50 % complited',\n",
    "    }\n",
    "}\n",
    "print(course)"
   ]
  },
  {
   "cell_type": "code",
   "execution_count": 21,
   "id": "1656b551",
   "metadata": {},
   "outputs": [
    {
     "name": "stdout",
     "output_type": "stream",
     "text": [
      "(['Laptop', 50000], ['keyboard', 1200], ['Mouse', 600])\n"
     ]
    }
   ],
   "source": [
    "# 8.You have a list where each element is a tuple containing a product's name and its\n",
    "# price. You need to find products that are below a certain price threshold. (Use unpacking\n",
    "# lists of tuples)\n",
    "\n",
    "element = (\n",
    "    ['Laptop', 50000],\n",
    "    ['keyboard', 1200],\n",
    "    ['Mouse', 600]\n",
    ")\n",
    "print(element)"
   ]
  },
  {
   "cell_type": "code",
   "execution_count": null,
   "id": "025bc7e1",
   "metadata": {},
   "outputs": [],
   "source": []
  }
 ],
 "metadata": {
  "kernelspec": {
   "display_name": "Python 3 (ipykernel)",
   "language": "python",
   "name": "python3"
  },
  "language_info": {
   "codemirror_mode": {
    "name": "ipython",
    "version": 3
   },
   "file_extension": ".py",
   "mimetype": "text/x-python",
   "name": "python",
   "nbconvert_exporter": "python",
   "pygments_lexer": "ipython3",
   "version": "3.11.5"
  }
 },
 "nbformat": 4,
 "nbformat_minor": 5
}
