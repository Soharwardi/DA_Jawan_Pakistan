{
 "cells": [
  {
   "cell_type": "code",
   "execution_count": null,
   "id": "6c6b5498",
   "metadata": {},
   "outputs": [],
   "source": [
    "import pandas as pd\n",
    "\n",
    "# Load the uploaded CSV file\n",
    "file_path = 'retail supermarket.csv'\n",
    "df = pd.read_csv(file_path)\n",
    "\n",
    "# Display the first few rows of the DataFrame to understand its structure\n",
    "df.head()\n"
   ]
  },
  {
   "cell_type": "code",
   "execution_count": null,
   "id": "c3099bd8",
   "metadata": {},
   "outputs": [],
   "source": [
    "import numpy as np\n",
    "\n",
    "# Create NumPy arrays from the 'Sales' and 'Profit' columns\n",
    "sales_array = np.array(df['Sales'])\n",
    "profit_array = np.array(df['Profit'])\n",
    "\n",
    "# Perform operations between the two arrays\n",
    "addition = sales_array + profit_array\n",
    "subtraction = sales_array - profit_array\n",
    "multiplication = sales_array * profit_array\n",
    "division = np.divide(sales_array, profit_array, where=profit_array!=0)  # avoid division by zero\n",
    "\n",
    "# Output the results of the operations\n",
    "addition[:5], subtraction[:5], multiplication[:5], division[:5]\n"
   ]
  }
 ],
 "metadata": {
  "kernelspec": {
   "display_name": "Python 3 (ipykernel)",
   "language": "python",
   "name": "python3"
  },
  "language_info": {
   "codemirror_mode": {
    "name": "ipython",
    "version": 3
   },
   "file_extension": ".py",
   "mimetype": "text/x-python",
   "name": "python",
   "nbconvert_exporter": "python",
   "pygments_lexer": "ipython3",
   "version": "3.11.5"
  }
 },
 "nbformat": 4,
 "nbformat_minor": 5
}
