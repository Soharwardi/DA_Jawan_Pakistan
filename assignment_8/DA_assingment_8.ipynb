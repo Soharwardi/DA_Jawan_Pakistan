{
 "cells": [
  {
   "cell_type": "code",
   "execution_count": null,
   "id": "5d0919bf",
   "metadata": {},
   "outputs": [],
   "source": [
    "import csv\n",
    "\n",
    "# Step 1: Read the CSV file\n",
    "file_path = '/mnt/data/student_data.csv'\n",
    "students = []\n",
    "\n",
    "with open(file_path, 'r') as file:\n",
    "    reader = csv.reader(file)\n",
    "    header = next(reader)  \n",
    "    for row in reader:\n",
    "        students.append(row)\n",
    "\n",
    "# Step 2: Calculate the average marks for Physics and Math\n",
    "total_physics = 0\n",
    "total_math = 0\n",
    "count = 0\n",
    "\n",
    "for student in students:\n",
    "    total_physics += int(student[1])  \n",
    "    total_math += int(student[2])  \n",
    "    count += 1\n",
    "\n",
    "physics_avg = total_physics / count\n",
    "math_avg = total_math / count\n",
    "\n",
    "print(f\"Average Physics Marks: {physics_avg}\")\n",
    "print(f\"Average Math Marks: {math_avg}\")\n",
    "\n",
    "\n",
    "\n",
    "# Step 3: Add a new column for Percentage (Per) after Math\n",
    "for student in students:\n",
    "    physics_marks = int(student[1])  # Physics column\n",
    "    math_marks = int(student[2])  # Math column\n",
    "    percentage = (physics_marks + math_marks) / 2  \n",
    "    student.append(str(percentage))  \n",
    "\n",
    "# Step 4: Save the updated data into a new CSV file\n",
    "new_file_path = '/mnt/data/updated_student_data.csv'\n",
    "header.append('Per')  # Add 'Per' to the header\n",
    "\n",
    "with open(new_file_path, 'w', newline='') as file:\n",
    "    writer = csv.writer(file)\n",
    "    writer.writerow(header)  \n",
    "    writer.writerows(students)  \n",
    "\n",
    "print(\"New file with percentage column saved successfully!\")\n",
    "\n",
    "\n"
   ]
  }
 ],
 "metadata": {
  "kernelspec": {
   "display_name": "Python 3 (ipykernel)",
   "language": "python",
   "name": "python3"
  },
  "language_info": {
   "codemirror_mode": {
    "name": "ipython",
    "version": 3
   },
   "file_extension": ".py",
   "mimetype": "text/x-python",
   "name": "python",
   "nbconvert_exporter": "python",
   "pygments_lexer": "ipython3",
   "version": "3.11.5"
  }
 },
 "nbformat": 4,
 "nbformat_minor": 5
}
