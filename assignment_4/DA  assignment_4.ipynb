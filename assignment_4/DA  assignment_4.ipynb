{
 "cells": [
  {
   "cell_type": "code",
   "execution_count": 3,
   "id": "7d276388",
   "metadata": {},
   "outputs": [
    {
     "name": "stdout",
     "output_type": "stream",
     "text": [
      "Dear Ali, you are cordially invited to dinner.\n",
      "Dear Yasir, you are cordially invited to dinner.\n",
      "Dear Kala naag, you are cordially invited to dinner.\n"
     ]
    }
   ],
   "source": [
    "# 4-1. Guest List: If you could invite anyone, living or deceased, to dinner, who\n",
    "# would you invite? Make a list that includes at least three people you’d like to\n",
    "# invite to dinner. Then use your list to print a message to each person, inviting\n",
    "# them to dinner.\n",
    "\n",
    "guest_list = [\"Ali\", \"Yasir\", \"Kala naag\"]\n",
    "\n",
    "print(\"Dear \" + guest_list[0] + \", you are cordially invited to dinner.\")\n",
    "print(\"Dear \" + guest_list[1] + \", you are cordially invited to dinner.\")\n",
    "print(\"Dear \" + guest_list[2] + \", you are cordially invited to dinner.\")\n"
   ]
  },
  {
   "cell_type": "code",
   "execution_count": 7,
   "id": "ab39c9de",
   "metadata": {},
   "outputs": [
    {
     "name": "stdout",
     "output_type": "stream",
     "text": [
      "Dear Ali, you are cordially invited to dinner.\n",
      "Dear Yasir, you are cordially invited to dinner.\n",
      "Dear Kala naag, you are cordially invited to dinner.\n",
      "\n",
      "Unfortunately, Yasir can't make it to the dinner.\n",
      "\n",
      "Dear Ali, you are cordially invited to dinner.\n",
      "Dear Fanter, you are cordially invited to dinner.\n",
      "Dear Kala naag, you are cordially invited to dinner.\n"
     ]
    }
   ],
   "source": [
    "# 4-2. Changing Guest List: You just heard that one of your guests can’t make the\n",
    "# dinner, so you need to send out a new set of invitations. You’ll have to think of\n",
    "# someone else to invite. \n",
    "# •     Start with your program from Exercise 4-1. Add a print statement at the\n",
    "# end of your program stating the name of the guest who can’t make it. \n",
    "# •     Modify your list, replacing the name of the guest who can’t make it with\n",
    "# the name of the new person you are inviting. \n",
    "# •     Print a second set of invitation messages, one for each person who is still\n",
    "# in your list. \n",
    "\n",
    "guest_list = [\"Ali\", \"Yasir\", \"Kala naag\"]\n",
    "\n",
    "print(\"Dear \" + guest_list[0] + \", you are cordially invited to dinner.\")\n",
    "print(\"Dear \" + guest_list[1] + \", you are cordially invited to dinner.\")\n",
    "print(\"Dear \" + guest_list[2] + \", you are cordially invited to dinner.\")\n",
    "print()\n",
    "\n",
    "# Guest who can't make it\n",
    "print(\"Unfortunately, \" + guest_list[1] + \" can't make it to the dinner.\")\n",
    "\n",
    "# Replace the guest who can't make it\n",
    "guest_list[1] = \"Fanter\"\n",
    "print()\n",
    "# Print the new set of invitations\n",
    "print(\"Dear \" + guest_list[0] + \", you are cordially invited to dinner.\")\n",
    "print(\"Dear \" + guest_list[1] + \", you are cordially invited to dinner.\")\n",
    "print(\"Dear \" + guest_list[2] + \", you are cordially invited to dinner.\")\n"
   ]
  },
  {
   "cell_type": "code",
   "execution_count": 8,
   "id": "45012f7e",
   "metadata": {},
   "outputs": [
    {
     "name": "stdout",
     "output_type": "stream",
     "text": [
      "\n",
      "Good news! We found a bigger dinner table!\n",
      "\n",
      "Dear Kalo, you are cordially invited to dinner.\n",
      "Dear Ali, you are cordially invited to dinner.\n",
      "Dear Nalo, you are cordially invited to dinner.\n",
      "Dear Yasir, you are cordially invited to dinner.\n",
      "Dear Kala naag, you are cordially invited to dinner.\n",
      "Dear Galo, you are cordially invited to dinner.\n"
     ]
    }
   ],
   "source": [
    "# 4-3. More Guests: You just found a bigger dinner table, so now more space is\n",
    "# available. Think of three more guests to invite to dinner.\n",
    "# •     Start with your program from Exercise 4-1 or Exercise 4-2. Add a print\n",
    "# statement to the end of your program informing people that you found a\n",
    "# bigger dinner table. \n",
    "# •     Use insert() to add one new guest to the beginning of your list. \n",
    "# •     Use insert() to add one new guest to the middle of your list. \n",
    "# •     Use append() to add one new guest to the end of your list. \n",
    "# •     Print a new set of invitation messages, one for each person in your list. \n",
    "\n",
    "guest_list = [\"Ali\", \"Yasir\", \"Kala naag\"]\n",
    "\n",
    "# Inform that a bigger table is available\n",
    "print(\"\\nGood news! We found a bigger dinner table!\")\n",
    "\n",
    "# Adding more guests\n",
    "guest_list.insert(0, \"Kalo\")\n",
    "guest_list.insert(2, \"Nalo\")\n",
    "guest_list.append(\"Galo\")\n",
    "\n",
    "# Print the new set of invitations\n",
    "print(\"\\nDear \" + guest_list[0] + \", you are cordially invited to dinner.\")\n",
    "print(\"Dear \" + guest_list[1] + \", you are cordially invited to dinner.\")\n",
    "print(\"Dear \" + guest_list[2] + \", you are cordially invited to dinner.\")\n",
    "print(\"Dear \" + guest_list[3] + \", you are cordially invited to dinner.\")\n",
    "print(\"Dear \" + guest_list[4] + \", you are cordially invited to dinner.\")\n",
    "print(\"Dear \" + guest_list[5] + \", you are cordially invited to dinner.\")\n"
   ]
  },
  {
   "cell_type": "code",
   "execution_count": 10,
   "id": "1007190b",
   "metadata": {},
   "outputs": [
    {
     "name": "stdout",
     "output_type": "stream",
     "text": [
      "\n",
      "Unfortunately, we can only invite two people for dinner.\n",
      "Sorry No Way, we can't invite you to dinner.\n",
      "Sorry Who ME, we can't invite you to dinner.\n",
      "Sorry What, we can't invite you to dinner.\n",
      "Sorry Kala naag, we can't invite you to dinner.\n",
      "\n",
      "Dear Ali, you are still invited to dinner.\n",
      "Dear Yasir, you are still invited to dinner.\n",
      "\n",
      "Final guest list: []\n"
     ]
    }
   ],
   "source": [
    "#  4-4. Shrinking Guest List: You just found out that your new dinner table won’t\n",
    "# arrive in time for the dinner, and you have space for only two guests. \n",
    "# •     Start with your program from Exercise 4-3. Add a new line that prints a\n",
    "# message saying that you can invite only two people for dinner. \n",
    "# •     Use pop() to remove guests from your list one at a time until only two\n",
    "# names remain in your list. Each time you pop a name from your list, print\n",
    "# a message to that person letting them know you’re sorry you can’t invite\n",
    "# them to dinner. \n",
    "# •     Print a message to each of the two people still on your list, letting them\n",
    "# know they’re still invited. \n",
    "# •     Use del to remove the last two names from your list, so you have an empty\n",
    "# list. Print your list to make sure you actually have an empty list at the end\n",
    "# of your program.\n",
    "\n",
    "guest_list = [\"Ali\", \"Yasir\", \"Kala naag\",'What','Who ME', 'No Way']\n",
    "\n",
    "# Inform that only two guests can be invited\n",
    "print(\"\\nUnfortunately, we can only invite two people for dinner.\")\n",
    "\n",
    "# Remove guests until only two are left\n",
    "removed_guest = guest_list.pop()\n",
    "print(\"Sorry \" + removed_guest + \", we can't invite you to dinner.\")\n",
    "\n",
    "removed_guest = guest_list.pop()\n",
    "print(\"Sorry \" + removed_guest + \", we can't invite you to dinner.\")\n",
    "\n",
    "removed_guest = guest_list.pop()\n",
    "print(\"Sorry \" + removed_guest + \", we can't invite you to dinner.\")\n",
    "\n",
    "removed_guest = guest_list.pop()\n",
    "print(\"Sorry \" + removed_guest + \", we can't invite you to dinner.\")\n",
    "\n",
    "# Print messages to the two remaining guests\n",
    "print(\"\\nDear \" + guest_list[0] + \", you are still invited to dinner.\")\n",
    "print(\"Dear \" + guest_list[1] + \", you are still invited to dinner.\")\n",
    "\n",
    "# Clear the guest list\n",
    "del guest_list[0]\n",
    "del guest_list[0]\n",
    "\n",
    "# Print the final (empty) list\n",
    "print(\"\\nFinal guest list: \" + str(guest_list))\n"
   ]
  },
  {
   "cell_type": "code",
   "execution_count": 11,
   "id": "fbe89307",
   "metadata": {},
   "outputs": [
    {
     "name": "stdout",
     "output_type": "stream",
     "text": [
      "10\n",
      "20\n",
      "50\n",
      "[10, 20]\n",
      "[20, 30, 40]\n",
      "[40, 50]\n"
     ]
    }
   ],
   "source": [
    "# 4-5. Make an another list you wish and perform indexing and slicing operations on it.\n",
    "# Also all those students who had not completed their marksheet assignment complete that with this one.\n",
    "\n",
    "# Create a new list\n",
    "my_list = [10, 20, 30, 40, 50]\n",
    "\n",
    "# Indexing\n",
    "first_element = my_list[0]\n",
    "second_element = my_list[1]\n",
    "last_element = my_list[-1]\n",
    "\n",
    "# Slicing\n",
    "first_two_elements = my_list[0:2]\n",
    "middle_elements = my_list[1:4]\n",
    "last_two_elements = my_list[-2:]\n",
    "\n",
    "print(first_element)  \n",
    "print(second_element)  \n",
    "print(last_element)  \n",
    "\n",
    "print(first_two_elements)  \n",
    "print(middle_elements)  \n",
    "print(last_two_elements)  "
   ]
  },
  {
   "cell_type": "code",
   "execution_count": null,
   "id": "78a162f1",
   "metadata": {},
   "outputs": [],
   "source": []
  }
 ],
 "metadata": {
  "kernelspec": {
   "display_name": "Python 3 (ipykernel)",
   "language": "python",
   "name": "python3"
  },
  "language_info": {
   "codemirror_mode": {
    "name": "ipython",
    "version": 3
   },
   "file_extension": ".py",
   "mimetype": "text/x-python",
   "name": "python",
   "nbconvert_exporter": "python",
   "pygments_lexer": "ipython3",
   "version": "3.11.5"
  }
 },
 "nbformat": 4,
 "nbformat_minor": 5
}
